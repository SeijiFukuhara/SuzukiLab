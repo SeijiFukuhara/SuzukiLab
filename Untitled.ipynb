{
 "cells": [
  {
   "cell_type": "code",
   "execution_count": 2,
   "id": "fba6ac67",
   "metadata": {},
   "outputs": [],
   "source": [
    "def _video2images(video): \n",
    "    if not __HAS_OPENCV__:\n",
    "        raise ImportError(\n",
    "            \"Open cv must be installed to read video.\\n\"\n",
    "        )\n",
    "\n",
    "    vidcap = cv2.VideoCapture(video)\n",
    "    success, image = vidcap.read() #? 読み込み成功のブール値、読み込んだ画像データ（Numpy配列）\n",
    "    count = 0\n",
    "    images = []\n",
    "    \n",
    "    while success:\n",
    "        success, image = vidcap.read()\n",
    "        image = np.array(image)\n",
    "        # here we just use the r channel. Maybe we need something here\n",
    "        #? コメントではrチャンネル（RGB配列の0番目を取り出しているから）を使っていると書いているが、BGR配列の可能性もある。\n",
    "        #? これはカラー画像をから一つのチャンネルのみを取り出すことで疑似的なグレースケールを創り出す操作をしている。\n",
    "        if image.ndim == 3:\n",
    "            image = image[..., 0]\n",
    "        if success:\n",
    "            images.append(image)\n",
    "\n",
    "\n",
    "    # while True:\n",
    "    #     success, image = vidcap.read()\n",
    "    #     if not success:\n",
    "    #         break\n",
    "    #     image = np.array(image)\n",
    "    #     if image.ndim == 3:\n",
    "    #         image = image[..., 0]\n",
    "    #     images.append(image)\n",
    "\n",
    "    return images[0], images"
   ]
  },
  {
   "cell_type": "code",
   "execution_count": null,
   "id": "43fe0c3a",
   "metadata": {},
   "outputs": [],
   "source": [
    "    image, video_images = _video2images(path_video)\n",
    "    image_ref = np.array(PIL.Image.open(path_refimages))\n",
    "\n",
    "    #* video_imagesをリストに変換し、image_refを先頭に追加\n",
    "    video_images = list(video_images)\n",
    "    video_images.insert(0, image_ref)"
   ]
  }
 ],
 "metadata": {
  "kernelspec": {
   "display_name": "Python 3 (ipykernel)",
   "language": "python",
   "name": "python3"
  },
  "language_info": {
   "codemirror_mode": {
    "name": "ipython",
    "version": 3
   },
   "file_extension": ".py",
   "mimetype": "text/x-python",
   "name": "python",
   "nbconvert_exporter": "python",
   "pygments_lexer": "ipython3",
   "version": "3.11.7"
  }
 },
 "nbformat": 4,
 "nbformat_minor": 5
}
