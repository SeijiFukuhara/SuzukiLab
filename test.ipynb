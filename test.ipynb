{
 "cells": [
  {
   "cell_type": "code",
   "execution_count": 15,
   "id": "cf507fca",
   "metadata": {},
   "outputs": [],
   "source": [
    "import cv2\n",
    "import os\n",
    "from PIL import Image\n",
    "\n",
    "def images_to_video(folder_path, output_path, fps=30):\n",
    "    \"\"\"\n",
    "    指定フォルダ内の.bmpファイルをフレームとして動画に書き出す\n",
    "\n",
    "    Parameters:\n",
    "    - folder_path: .bmpファイルが保存されているフォルダ\n",
    "    - output_path: 出力する動画ファイルのパス（例: output.avi）\n",
    "    - fps: フレームレート（例: 30）\n",
    "    \"\"\"\n",
    "    # .bmp ファイルをファイル名順に並べて取得\n",
    "    image_files = sorted([f for f in os.listdir(folder_path) if f.lower().endswith('.bmp')])\n",
    "    if not image_files:\n",
    "        print(\"BMPファイルが見つかりません。\")\n",
    "        return\n",
    "\n",
    "    # 最初の画像からサイズ取得（OpenCV用にBGRに変換）\n",
    "    first_image_path = os.path.join(folder_path, image_files[0])\n",
    "    frame = cv2.imread(first_image_path)\n",
    "    if frame is None:\n",
    "        print(\"画像の読み込みに失敗しました。\")\n",
    "        return\n",
    "    height, width, _ = frame.shape\n",
    "\n",
    "    # 動画ライターを作成\n",
    "    fourcc = cv2.VideoWriter_fourcc(*'XVID')  # 例: .avi ファイル向け\n",
    "    video_writer = cv2.VideoWriter(output_path, fourcc, fps, (width, height))\n",
    "\n",
    "    for filename in image_files:\n",
    "        img_path = os.path.join(folder_path, filename)\n",
    "        img = cv2.imread(img_path)\n",
    "        if img is None:\n",
    "            print(f\"読み込み失敗: {filename}\")\n",
    "            continue\n",
    "        video_writer.write(img)\n",
    "\n",
    "    video_writer.release()\n",
    "    print(f\"動画を書き出しました: {output_path}\")\n",
    "\n",
    "# 使用例:\n",
    "# images_to_video(\"E:/QPM_data/frames\", \"E:/QPM_data/output_video.avi\", fps=10)\n"
   ]
  },
  {
   "cell_type": "code",
   "execution_count": 17,
   "id": "1f4d7c4a",
   "metadata": {},
   "outputs": [
    {
     "name": "stdout",
     "output_type": "stream",
     "text": [
      "画像の読み込みに失敗しました。\n"
     ]
    }
   ],
   "source": [
    "# 使用例（パスは必要に応じて書き換えてください）\n",
    "images_to_video(\"C:\\\\Users\\\\seiji\\\\VSCodeFolder\\\\SuzukiLab\\\\test3\\\\sample画像\", \"C:\\\\Users\\\\seiji\\\\VSCodeFolder\\\\SuzukiLab\\\\test3\", fps=10)"
   ]
  },
  {
   "cell_type": "code",
   "execution_count": null,
   "id": "fd93c3f9",
   "metadata": {},
   "outputs": [],
   "source": []
  },
  {
   "cell_type": "code",
   "execution_count": null,
   "id": "270c3f1c",
   "metadata": {},
   "outputs": [],
   "source": []
  },
  {
   "cell_type": "code",
   "execution_count": null,
   "id": "64b03a75",
   "metadata": {},
   "outputs": [],
   "source": []
  }
 ],
 "metadata": {
  "kernelspec": {
   "display_name": "heatflux_env",
   "language": "python",
   "name": "python3"
  },
  "language_info": {
   "codemirror_mode": {
    "name": "ipython",
    "version": 3
   },
   "file_extension": ".py",
   "mimetype": "text/x-python",
   "name": "python",
   "nbconvert_exporter": "python",
   "pygments_lexer": "ipython3",
   "version": "3.13.3"
  }
 },
 "nbformat": 4,
 "nbformat_minor": 5
}
